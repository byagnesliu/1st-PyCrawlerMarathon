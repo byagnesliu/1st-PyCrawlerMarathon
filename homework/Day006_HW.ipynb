{
 "cells": [
  {
   "cell_type": "markdown",
   "metadata": {},
   "source": [
    "# API 資料串接 - 以 知乎 API 實作範例\n",
    "\n",
    "\n",
    "\n",
    "* 了解知乎 API 使用方式與回傳內容\n",
    "* 撰寫程式存取 API 且添加標頭\n",
    "\n",
    "\n"
   ]
  },
  {
   "cell_type": "markdown",
   "metadata": {},
   "source": [
    "## 作業目標\n",
    "\n",
    "* 根據範例提供的 API ，完成以下問題：\n",
    "\n",
    "    1. 取出知乎問題發問時間\n",
    "    2. 取出第一筆與最後一筆回答的時間\n"
   ]
  },
  {
   "cell_type": "markdown",
   "metadata": {},
   "source": [
    "### 1. 取出知乎問題發問時間"
   ]
  },
  {
   "cell_type": "code",
   "execution_count": 2,
   "metadata": {},
   "outputs": [
    {
     "data": {
      "text/plain": [
       "'<html>\\r\\n<head><title>400 Bad Request</title></head>\\r\\n<body bgcolor=\"white\">\\r\\n<center><h1>400 Bad Request</h1></center>\\r\\n<hr><center>openresty</center>\\r\\n</body>\\r\\n</html>\\r\\n'"
      ]
     },
     "execution_count": 2,
     "metadata": {},
     "output_type": "execute_result"
    }
   ],
   "source": [
    "# 1. 取出知乎問題發問時間\n",
    "import requests\n",
    "res=requests.get('https://www.zhihu.com/api/v4/questions/55493026/answers')\n",
    "res.text"
   ]
  },
  {
   "cell_type": "code",
   "execution_count": 16,
   "metadata": {
    "scrolled": true
   },
   "outputs": [
    {
     "data": {
      "text/plain": [
       "{'data': [{'id': 683070334,\n",
       "   'type': 'answer',\n",
       "   'answer_type': 'normal',\n",
       "   'question': {'type': 'question',\n",
       "    'id': 55493026,\n",
       "    'title': '你们都是怎么学 Python 的？',\n",
       "    'question_type': 'normal',\n",
       "    'created': 1486390229,\n",
       "    'updated_time': 1543075931,\n",
       "    'url': 'https://www.zhihu.com/api/v4/questions/55493026',\n",
       "    'relationship': {}},\n",
       "   'author': {'id': '36f69162230003d316d0b8a6d8da20ba',\n",
       "    'url_token': 'liang-zi-wei-48',\n",
       "    'name': '量子位',\n",
       "    'avatar_url': 'https://pic4.zhimg.com/v2-ca6e7ffc10a0d10edbae635cee82d007_is.jpg',\n",
       "    'avatar_url_template': 'https://pic4.zhimg.com/v2-ca6e7ffc10a0d10edbae635cee82d007_{size}.jpg',\n",
       "    'is_org': True,\n",
       "    'type': 'people',\n",
       "    'url': 'https://www.zhihu.com/api/v4/people/36f69162230003d316d0b8a6d8da20ba',\n",
       "    'user_type': 'organization',\n",
       "    'headline': '有趣的AI&amp;前沿科技→_→ 公众号：QbitAI',\n",
       "    'badge': [{'type': 'identity', 'description': '已认证的官方帐号', 'topics': []},\n",
       "     {'type': 'best_answerer', 'description': '优秀回答者', 'topics': []}],\n",
       "    'gender': -1,\n",
       "    'is_advertiser': False,\n",
       "    'is_privacy': False},\n",
       "   'url': 'https://www.zhihu.com/api/v4/answers/683070334',\n",
       "   'is_collapsed': False,\n",
       "   'created_time': 1557824412,\n",
       "   'updated_time': 1557824412,\n",
       "   'extras': '',\n",
       "   'is_copyable': True,\n",
       "   'relationship': {'upvoted_followees': []},\n",
       "   'ad_answer': None},\n",
       "  {'id': 637938925,\n",
       "   'type': 'answer',\n",
       "   'answer_type': 'normal',\n",
       "   'question': {'type': 'question',\n",
       "    'id': 55493026,\n",
       "    'title': '你们都是怎么学 Python 的？',\n",
       "    'question_type': 'normal',\n",
       "    'created': 1486390229,\n",
       "    'updated_time': 1543075931,\n",
       "    'url': 'https://www.zhihu.com/api/v4/questions/55493026',\n",
       "    'relationship': {}},\n",
       "   'author': {'id': 'e8c4768eaa41e3749f7e8bc5ac6aa74b',\n",
       "    'url_token': 'Lanyuneet',\n",
       "    'name': 'Slumbers',\n",
       "    'avatar_url': 'https://pic4.zhimg.com/v2-314544f90f2a16f9ed161dc6ab6d00ed_is.jpg',\n",
       "    'avatar_url_template': 'https://pic4.zhimg.com/v2-314544f90f2a16f9ed161dc6ab6d00ed_{size}.jpg',\n",
       "    'is_org': False,\n",
       "    'type': 'people',\n",
       "    'url': 'https://www.zhihu.com/api/v4/people/e8c4768eaa41e3749f7e8bc5ac6aa74b',\n",
       "    'user_type': 'people',\n",
       "    'headline': '算法工程师',\n",
       "    'badge': [],\n",
       "    'gender': 0,\n",
       "    'is_advertiser': False,\n",
       "    'is_privacy': False},\n",
       "   'url': 'https://www.zhihu.com/api/v4/answers/637938925',\n",
       "   'is_collapsed': False,\n",
       "   'created_time': 1554085028,\n",
       "   'updated_time': 1558451618,\n",
       "   'extras': '',\n",
       "   'is_copyable': True,\n",
       "   'relationship': {'upvoted_followees': []},\n",
       "   'ad_answer': None},\n",
       "  {'id': 163537026,\n",
       "   'type': 'answer',\n",
       "   'answer_type': 'normal',\n",
       "   'question': {'type': 'question',\n",
       "    'id': 55493026,\n",
       "    'title': '你们都是怎么学 Python 的？',\n",
       "    'question_type': 'normal',\n",
       "    'created': 1486390229,\n",
       "    'updated_time': 1543075931,\n",
       "    'url': 'https://www.zhihu.com/api/v4/questions/55493026',\n",
       "    'relationship': {}},\n",
       "   'author': {'id': 'eaf435b228ce0b038a4afe8203f59b49',\n",
       "    'url_token': 'sgai',\n",
       "    'name': '路人甲',\n",
       "    'avatar_url': 'https://pic3.zhimg.com/958a18f3216805bed269d158fb83325a_is.jpg',\n",
       "    'avatar_url_template': 'https://pic3.zhimg.com/958a18f3216805bed269d158fb83325a_{size}.jpg',\n",
       "    'is_org': False,\n",
       "    'type': 'people',\n",
       "    'url': 'https://www.zhihu.com/api/v4/people/eaf435b228ce0b038a4afe8203f59b49',\n",
       "    'user_type': 'people',\n",
       "    'headline': '微信公众号：路人甲TM，微信：thisnozy',\n",
       "    'badge': [],\n",
       "    'gender': 1,\n",
       "    'is_advertiser': False,\n",
       "    'is_privacy': False},\n",
       "   'url': 'https://www.zhihu.com/api/v4/answers/163537026',\n",
       "   'is_collapsed': False,\n",
       "   'created_time': 1493693113,\n",
       "   'updated_time': 1579138388,\n",
       "   'extras': '',\n",
       "   'is_copyable': True,\n",
       "   'relationship': {'upvoted_followees': []},\n",
       "   'ad_answer': None},\n",
       "  {'id': 163642949,\n",
       "   'type': 'answer',\n",
       "   'answer_type': 'normal',\n",
       "   'question': {'type': 'question',\n",
       "    'id': 55493026,\n",
       "    'title': '你们都是怎么学 Python 的？',\n",
       "    'question_type': 'normal',\n",
       "    'created': 1486390229,\n",
       "    'updated_time': 1543075931,\n",
       "    'url': 'https://www.zhihu.com/api/v4/questions/55493026',\n",
       "    'relationship': {}},\n",
       "   'author': {'id': '788f207a6bf8f66c5bad79bd0f011065',\n",
       "    'url_token': 'simonlearn',\n",
       "    'name': '赛门喵Simon',\n",
       "    'avatar_url': 'https://pic2.zhimg.com/v2-03afe381dbea789c0f918d6aac15556c_is.jpg',\n",
       "    'avatar_url_template': 'https://pic2.zhimg.com/v2-03afe381dbea789c0f918d6aac15556c_{size}.jpg',\n",
       "    'is_org': False,\n",
       "    'type': 'people',\n",
       "    'url': 'https://www.zhihu.com/api/v4/people/788f207a6bf8f66c5bad79bd0f011065',\n",
       "    'user_type': 'people',\n",
       "    'headline': '',\n",
       "    'badge': [{'type': 'identity',\n",
       "      'description': '新加坡南洋理工大学 电气工程博士',\n",
       "      'topics': []}],\n",
       "    'gender': 1,\n",
       "    'is_advertiser': False,\n",
       "    'is_privacy': False},\n",
       "   'url': 'https://www.zhihu.com/api/v4/answers/163642949',\n",
       "   'is_collapsed': False,\n",
       "   'created_time': 1493707703,\n",
       "   'updated_time': 1493708357,\n",
       "   'extras': '',\n",
       "   'is_copyable': False,\n",
       "   'relationship': {'upvoted_followees': []},\n",
       "   'ad_answer': None},\n",
       "  {'id': 609522449,\n",
       "   'type': 'answer',\n",
       "   'answer_type': 'normal',\n",
       "   'question': {'type': 'question',\n",
       "    'id': 55493026,\n",
       "    'title': '你们都是怎么学 Python 的？',\n",
       "    'question_type': 'normal',\n",
       "    'created': 1486390229,\n",
       "    'updated_time': 1543075931,\n",
       "    'url': 'https://www.zhihu.com/api/v4/questions/55493026',\n",
       "    'relationship': {}},\n",
       "   'author': {'id': '490d264b4a2a4a7dd278c3d418c3e5fa',\n",
       "    'url_token': 'si-xi-29-93',\n",
       "    'name': '啊窝额',\n",
       "    'avatar_url': 'https://pic4.zhimg.com/v2-13117b0fb45ff0091326179fcfa97932_is.jpg',\n",
       "    'avatar_url_template': 'https://pic4.zhimg.com/v2-13117b0fb45ff0091326179fcfa97932_{size}.jpg',\n",
       "    'is_org': False,\n",
       "    'type': 'people',\n",
       "    'url': 'https://www.zhihu.com/api/v4/people/490d264b4a2a4a7dd278c3d418c3e5fa',\n",
       "    'user_type': 'people',\n",
       "    'headline': '某厂一个程序员。',\n",
       "    'badge': [],\n",
       "    'gender': 0,\n",
       "    'is_advertiser': False,\n",
       "    'is_privacy': False},\n",
       "   'url': 'https://www.zhihu.com/api/v4/answers/609522449',\n",
       "   'is_collapsed': False,\n",
       "   'created_time': 1551238885,\n",
       "   'updated_time': 1559194081,\n",
       "   'extras': '',\n",
       "   'is_copyable': True,\n",
       "   'relationship': {'upvoted_followees': []},\n",
       "   'ad_answer': None}],\n",
       " 'paging': {'is_end': False,\n",
       "  'is_start': True,\n",
       "  'next': 'https://www.zhihu.com/api/v4/questions/55493026/answers?limit=5&offset=5',\n",
       "  'previous': 'https://www.zhihu.com/api/v4/questions/55493026/answers?limit=5&offset=0',\n",
       "  'totals': 544}}"
      ]
     },
     "execution_count": 16,
     "metadata": {},
     "output_type": "execute_result"
    }
   ],
   "source": [
    "headers={\"user-agent\": 'my-app/0.0.1'}\n",
    "res=requests.get('https://www.zhihu.com/api/v4/questions/55493026/answers',headers=headers)\n",
    "res.text\n",
    "\n",
    "import json\n",
    "datas=json.loads(res.text)\n",
    "datas"
   ]
  },
  {
   "cell_type": "code",
   "execution_count": 37,
   "metadata": {},
   "outputs": [
    {
     "name": "stdout",
     "output_type": "stream",
     "text": [
      "2017-02-06 22:10:29\n",
      "2017-02-06 22:10:29\n",
      "2017-02-06 22:10:29\n",
      "2017-02-06 22:10:29\n",
      "2017-02-06 22:10:29\n"
     ]
    }
   ],
   "source": [
    "from datetime import datetime\n",
    "for comment in datas[\"data\"]:\n",
    "    dt_object = datetime.fromtimestamp(comment[\"question\"][\"created\"])\n",
    "    print(dt_object)"
   ]
  },
  {
   "cell_type": "markdown",
   "metadata": {},
   "source": [
    "### 2. 取出第一筆與最後一筆回答的時間"
   ]
  },
  {
   "cell_type": "code",
   "execution_count": 49,
   "metadata": {},
   "outputs": [
    {
     "name": "stdout",
     "output_type": "stream",
     "text": [
      "2017-05-02 10:45:13\n",
      "2019-05-14 17:00:12\n"
     ]
    }
   ],
   "source": [
    "# 2. 取出第一筆與最後一筆回答的時間\n",
    "from datetime import datetime\n",
    "max=0\n",
    "min=9999999999\n",
    "for comment in datas[\"data\"]:\n",
    "    if(comment[\"created_time\"]>max):\n",
    "        max=comment[\"created_time\"]\n",
    "    if(comment[\"created_time\"]<min):\n",
    "        min=comment[\"created_time\"]\n",
    "        \n",
    "max_time = datetime.fromtimestamp(max)\n",
    "min_time = datetime.fromtimestamp(min)\n",
    "print(min_time)\n",
    "print(max_time)"
   ]
  },
  {
   "cell_type": "code",
   "execution_count": null,
   "metadata": {},
   "outputs": [],
   "source": []
  },
  {
   "cell_type": "code",
   "execution_count": null,
   "metadata": {},
   "outputs": [],
   "source": []
  },
  {
   "cell_type": "code",
   "execution_count": null,
   "metadata": {},
   "outputs": [],
   "source": []
  }
 ],
 "metadata": {
  "kernelspec": {
   "display_name": "Python 3",
   "language": "python",
   "name": "python3"
  },
  "language_info": {
   "codemirror_mode": {
    "name": "ipython",
    "version": 3
   },
   "file_extension": ".py",
   "mimetype": "text/x-python",
   "name": "python",
   "nbconvert_exporter": "python",
   "pygments_lexer": "ipython3",
   "version": "3.7.4"
  }
 },
 "nbformat": 4,
 "nbformat_minor": 2
}
